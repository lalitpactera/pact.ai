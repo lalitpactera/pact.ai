{
 "cells": [
  {
   "cell_type": "code",
   "execution_count": 1,
   "metadata": {},
   "outputs": [
    {
     "name": "stdout",
     "output_type": "stream",
     "text": [
      " * Serving Flask app \"__main__\" (lazy loading)\n",
      " * Environment: production\n",
      "   WARNING: This is a development server. Do not use it in a production deployment.\n",
      "   Use a production WSGI server instead.\n",
      " * Debug mode: off\n"
     ]
    },
    {
     "name": "stderr",
     "output_type": "stream",
     "text": [
      " * Running on http://127.0.0.1:9000/ (Press CTRL+C to quit)\n",
      "127.0.0.1 - - [05/Aug/2019 12:22:20] \"\u001b[33mGET / HTTP/1.1\u001b[0m\" 404 -\n",
      "127.0.0.1 - - [05/Aug/2019 12:22:20] \"\u001b[33mGET /favicon.ico HTTP/1.1\u001b[0m\" 404 -\n",
      "[2019-08-05 12:22:34,118] ERROR in app: Exception on /api/logfile [GET]\n",
      "Traceback (most recent call last):\n",
      "  File \"c:\\users\\p0140563\\miniconda3\\lib\\site-packages\\flask\\app.py\", line 2311, in wsgi_app\n",
      "    response = self.full_dispatch_request()\n",
      "  File \"c:\\users\\p0140563\\miniconda3\\lib\\site-packages\\flask\\app.py\", line 1834, in full_dispatch_request\n",
      "    rv = self.handle_user_exception(e)\n",
      "  File \"c:\\users\\p0140563\\miniconda3\\lib\\site-packages\\flask\\app.py\", line 1737, in handle_user_exception\n",
      "    reraise(exc_type, exc_value, tb)\n",
      "  File \"c:\\users\\p0140563\\miniconda3\\lib\\site-packages\\flask\\_compat.py\", line 36, in reraise\n",
      "    raise value\n",
      "  File \"c:\\users\\p0140563\\miniconda3\\lib\\site-packages\\flask\\app.py\", line 1832, in full_dispatch_request\n",
      "    rv = self.dispatch_request()\n",
      "  File \"c:\\users\\p0140563\\miniconda3\\lib\\site-packages\\flask\\app.py\", line 1818, in dispatch_request\n",
      "    return self.view_functions[rule.endpoint](**req.view_args)\n",
      "  File \"<ipython-input-1-38f9952210d1>\", line 10, in post_logfile\n",
      "    if log_file is not None:\n",
      "UnboundLocalError: local variable 'log_file' referenced before assignment\n",
      "127.0.0.1 - - [05/Aug/2019 12:22:34] \"\u001b[1m\u001b[35mGET /api/logfile HTTP/1.1\u001b[0m\" 500 -\n"
     ]
    }
   ],
   "source": [
    "from flask import Flask\n",
    "from flask import request, jsonify\n",
    "app = Flask(__name__)\n",
    "\n",
    "log_file = None\n",
    "\n",
    "@app.route(\"/api/logfile\", methods=['GET', 'POST'])\n",
    "def post_logfile():\n",
    "    if request.method == 'GET':\n",
    "        if log_file is not None:\n",
    "            return \"Log file not instantiated yet\", 404\n",
    "        else:\n",
    "            return jsonify(log_file)\n",
    "    elif request.method == 'POST':\n",
    "        log_file = request.form\n",
    "        if log_file is not None: \n",
    "            # log_file variable will have all the information\n",
    "            # from the JSON log file\n",
    "            return \"Ok\" \n",
    "        else:\n",
    "            return \"No data provided\", 400\n",
    "\n",
    "if __name__ == \"__main__\":\n",
    "    app.run(port=9000)"
   ]
  },
  {
   "cell_type": "code",
   "execution_count": null,
   "metadata": {},
   "outputs": [],
   "source": []
  }
 ],
 "metadata": {
  "kernelspec": {
   "display_name": "Python 3",
   "language": "python",
   "name": "python3"
  },
  "language_info": {
   "codemirror_mode": {
    "name": "ipython",
    "version": 3
   },
   "file_extension": ".py",
   "mimetype": "text/x-python",
   "name": "python",
   "nbconvert_exporter": "python",
   "pygments_lexer": "ipython3",
   "version": "3.6.8"
  }
 },
 "nbformat": 4,
 "nbformat_minor": 2
}
