{
 "cells": [
  {
   "cell_type": "code",
   "execution_count": null,
   "metadata": {},
   "outputs": [],
   "source": [
    "import pandas as pd\n",
    "class NormalizeColumns:\n",
    "    def normalizeAllMinMax(pandas_object):\n",
    "        for col in pandas_object.columns:\n",
    "                pandas_object[col] = (pandas_object[col] - pandas_object[col].min())/(pandas_object[col].max() - pandas_object[col].min()) \n",
    "                \n",
    "    def normalizeAllStdScl(pandas_object):\n",
    "        for col in pandas_object.columns:\n",
    "            if is_numeric_dtype(pandas_object[col]):\n",
    "                pandas_object[col] = pandas_object[col]\n",
    "            else:\n",
    "                categorical_columns.append(col)\n",
    "                pandas_object[col] = pd.to_numeric(getCategoryLabel(pandas_object[col])) "
   ]
  }
 ],
 "metadata": {
  "kernelspec": {
   "display_name": "Python 3",
   "language": "python",
   "name": "python3"
  },
  "language_info": {
   "codemirror_mode": {
    "name": "ipython",
    "version": 3
   },
   "file_extension": ".py",
   "mimetype": "text/x-python",
   "name": "python",
   "nbconvert_exporter": "python",
   "pygments_lexer": "ipython3",
   "version": "3.6.8"
  }
 },
 "nbformat": 4,
 "nbformat_minor": 2
}
